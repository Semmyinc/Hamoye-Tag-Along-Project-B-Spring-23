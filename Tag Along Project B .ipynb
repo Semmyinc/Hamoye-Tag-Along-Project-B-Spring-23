{
 "cells": [
  {
   "cell_type": "markdown",
   "id": "d474be76",
   "metadata": {},
   "source": [
    "<b>Project Name</b> <br>\n",
    "Tag Along Project B"
   ]
  },
  {
   "cell_type": "code",
   "execution_count": 1,
   "id": "0ac33dc5",
   "metadata": {},
   "outputs": [],
   "source": [
    "# Import Needed Libraries\n",
    "import pandas as pd\n",
    "import numpy as np"
   ]
  },
  {
   "cell_type": "code",
   "execution_count": 2,
   "id": "74db0c7a",
   "metadata": {
    "scrolled": true
   },
   "outputs": [
    {
     "data": {
      "text/html": [
       "<div>\n",
       "<style scoped>\n",
       "    .dataframe tbody tr th:only-of-type {\n",
       "        vertical-align: middle;\n",
       "    }\n",
       "\n",
       "    .dataframe tbody tr th {\n",
       "        vertical-align: top;\n",
       "    }\n",
       "\n",
       "    .dataframe thead th {\n",
       "        text-align: right;\n",
       "    }\n",
       "</style>\n",
       "<table border=\"1\" class=\"dataframe\">\n",
       "  <thead>\n",
       "    <tr style=\"text-align: right;\">\n",
       "      <th></th>\n",
       "      <th>date</th>\n",
       "      <th>Appliances</th>\n",
       "      <th>lights</th>\n",
       "      <th>T1</th>\n",
       "      <th>RH_1</th>\n",
       "      <th>T2</th>\n",
       "      <th>RH_2</th>\n",
       "      <th>T3</th>\n",
       "      <th>RH_3</th>\n",
       "      <th>T4</th>\n",
       "      <th>...</th>\n",
       "      <th>T9</th>\n",
       "      <th>RH_9</th>\n",
       "      <th>T_out</th>\n",
       "      <th>Press_mm_hg</th>\n",
       "      <th>RH_out</th>\n",
       "      <th>Windspeed</th>\n",
       "      <th>Visibility</th>\n",
       "      <th>Tdewpoint</th>\n",
       "      <th>rv1</th>\n",
       "      <th>rv2</th>\n",
       "    </tr>\n",
       "  </thead>\n",
       "  <tbody>\n",
       "    <tr>\n",
       "      <th>0</th>\n",
       "      <td>2016-01-11 17:00:00</td>\n",
       "      <td>60</td>\n",
       "      <td>30</td>\n",
       "      <td>19.89</td>\n",
       "      <td>47.596667</td>\n",
       "      <td>19.2</td>\n",
       "      <td>44.790000</td>\n",
       "      <td>19.79</td>\n",
       "      <td>44.730000</td>\n",
       "      <td>19.000000</td>\n",
       "      <td>...</td>\n",
       "      <td>17.033333</td>\n",
       "      <td>45.53</td>\n",
       "      <td>6.600000</td>\n",
       "      <td>733.5</td>\n",
       "      <td>92.0</td>\n",
       "      <td>7.000000</td>\n",
       "      <td>63.000000</td>\n",
       "      <td>5.3</td>\n",
       "      <td>13.275433</td>\n",
       "      <td>13.275433</td>\n",
       "    </tr>\n",
       "    <tr>\n",
       "      <th>1</th>\n",
       "      <td>2016-01-11 17:10:00</td>\n",
       "      <td>60</td>\n",
       "      <td>30</td>\n",
       "      <td>19.89</td>\n",
       "      <td>46.693333</td>\n",
       "      <td>19.2</td>\n",
       "      <td>44.722500</td>\n",
       "      <td>19.79</td>\n",
       "      <td>44.790000</td>\n",
       "      <td>19.000000</td>\n",
       "      <td>...</td>\n",
       "      <td>17.066667</td>\n",
       "      <td>45.56</td>\n",
       "      <td>6.483333</td>\n",
       "      <td>733.6</td>\n",
       "      <td>92.0</td>\n",
       "      <td>6.666667</td>\n",
       "      <td>59.166667</td>\n",
       "      <td>5.2</td>\n",
       "      <td>18.606195</td>\n",
       "      <td>18.606195</td>\n",
       "    </tr>\n",
       "    <tr>\n",
       "      <th>2</th>\n",
       "      <td>2016-01-11 17:20:00</td>\n",
       "      <td>50</td>\n",
       "      <td>30</td>\n",
       "      <td>19.89</td>\n",
       "      <td>46.300000</td>\n",
       "      <td>19.2</td>\n",
       "      <td>44.626667</td>\n",
       "      <td>19.79</td>\n",
       "      <td>44.933333</td>\n",
       "      <td>18.926667</td>\n",
       "      <td>...</td>\n",
       "      <td>17.000000</td>\n",
       "      <td>45.50</td>\n",
       "      <td>6.366667</td>\n",
       "      <td>733.7</td>\n",
       "      <td>92.0</td>\n",
       "      <td>6.333333</td>\n",
       "      <td>55.333333</td>\n",
       "      <td>5.1</td>\n",
       "      <td>28.642668</td>\n",
       "      <td>28.642668</td>\n",
       "    </tr>\n",
       "    <tr>\n",
       "      <th>3</th>\n",
       "      <td>2016-01-11 17:30:00</td>\n",
       "      <td>50</td>\n",
       "      <td>40</td>\n",
       "      <td>19.89</td>\n",
       "      <td>46.066667</td>\n",
       "      <td>19.2</td>\n",
       "      <td>44.590000</td>\n",
       "      <td>19.79</td>\n",
       "      <td>45.000000</td>\n",
       "      <td>18.890000</td>\n",
       "      <td>...</td>\n",
       "      <td>17.000000</td>\n",
       "      <td>45.40</td>\n",
       "      <td>6.250000</td>\n",
       "      <td>733.8</td>\n",
       "      <td>92.0</td>\n",
       "      <td>6.000000</td>\n",
       "      <td>51.500000</td>\n",
       "      <td>5.0</td>\n",
       "      <td>45.410389</td>\n",
       "      <td>45.410389</td>\n",
       "    </tr>\n",
       "    <tr>\n",
       "      <th>4</th>\n",
       "      <td>2016-01-11 17:40:00</td>\n",
       "      <td>60</td>\n",
       "      <td>40</td>\n",
       "      <td>19.89</td>\n",
       "      <td>46.333333</td>\n",
       "      <td>19.2</td>\n",
       "      <td>44.530000</td>\n",
       "      <td>19.79</td>\n",
       "      <td>45.000000</td>\n",
       "      <td>18.890000</td>\n",
       "      <td>...</td>\n",
       "      <td>17.000000</td>\n",
       "      <td>45.40</td>\n",
       "      <td>6.133333</td>\n",
       "      <td>733.9</td>\n",
       "      <td>92.0</td>\n",
       "      <td>5.666667</td>\n",
       "      <td>47.666667</td>\n",
       "      <td>4.9</td>\n",
       "      <td>10.084097</td>\n",
       "      <td>10.084097</td>\n",
       "    </tr>\n",
       "  </tbody>\n",
       "</table>\n",
       "<p>5 rows × 29 columns</p>\n",
       "</div>"
      ],
      "text/plain": [
       "                  date  Appliances  lights     T1       RH_1    T2       RH_2  \\\n",
       "0  2016-01-11 17:00:00          60      30  19.89  47.596667  19.2  44.790000   \n",
       "1  2016-01-11 17:10:00          60      30  19.89  46.693333  19.2  44.722500   \n",
       "2  2016-01-11 17:20:00          50      30  19.89  46.300000  19.2  44.626667   \n",
       "3  2016-01-11 17:30:00          50      40  19.89  46.066667  19.2  44.590000   \n",
       "4  2016-01-11 17:40:00          60      40  19.89  46.333333  19.2  44.530000   \n",
       "\n",
       "      T3       RH_3         T4  ...         T9   RH_9     T_out  Press_mm_hg  \\\n",
       "0  19.79  44.730000  19.000000  ...  17.033333  45.53  6.600000        733.5   \n",
       "1  19.79  44.790000  19.000000  ...  17.066667  45.56  6.483333        733.6   \n",
       "2  19.79  44.933333  18.926667  ...  17.000000  45.50  6.366667        733.7   \n",
       "3  19.79  45.000000  18.890000  ...  17.000000  45.40  6.250000        733.8   \n",
       "4  19.79  45.000000  18.890000  ...  17.000000  45.40  6.133333        733.9   \n",
       "\n",
       "   RH_out  Windspeed  Visibility  Tdewpoint        rv1        rv2  \n",
       "0    92.0   7.000000   63.000000        5.3  13.275433  13.275433  \n",
       "1    92.0   6.666667   59.166667        5.2  18.606195  18.606195  \n",
       "2    92.0   6.333333   55.333333        5.1  28.642668  28.642668  \n",
       "3    92.0   6.000000   51.500000        5.0  45.410389  45.410389  \n",
       "4    92.0   5.666667   47.666667        4.9  10.084097  10.084097  \n",
       "\n",
       "[5 rows x 29 columns]"
      ]
     },
     "execution_count": 2,
     "metadata": {},
     "output_type": "execute_result"
    }
   ],
   "source": [
    "# Reading in the data using Pandas DataFrame\n",
    "df = pd.read_csv('energydata_complete.csv')\n",
    "\n",
    "# Lets view the first 5 rows of the data\n",
    "df.head()"
   ]
  },
  {
   "cell_type": "code",
   "execution_count": 3,
   "id": "e7d934f8",
   "metadata": {},
   "outputs": [
    {
     "data": {
      "text/plain": [
       "(19735, 29)"
      ]
     },
     "execution_count": 3,
     "metadata": {},
     "output_type": "execute_result"
    }
   ],
   "source": [
    "# Confirming the number of Observations and Features in the Dataset\n",
    "df.shape"
   ]
  },
  {
   "cell_type": "code",
   "execution_count": 4,
   "id": "2b0e3692",
   "metadata": {
    "scrolled": true
   },
   "outputs": [
    {
     "name": "stdout",
     "output_type": "stream",
     "text": [
      "<class 'pandas.core.frame.DataFrame'>\n",
      "RangeIndex: 19735 entries, 0 to 19734\n",
      "Data columns (total 29 columns):\n",
      " #   Column       Non-Null Count  Dtype  \n",
      "---  ------       --------------  -----  \n",
      " 0   date         19735 non-null  object \n",
      " 1   Appliances   19735 non-null  int64  \n",
      " 2   lights       19735 non-null  int64  \n",
      " 3   T1           19735 non-null  float64\n",
      " 4   RH_1         19735 non-null  float64\n",
      " 5   T2           19735 non-null  float64\n",
      " 6   RH_2         19735 non-null  float64\n",
      " 7   T3           19735 non-null  float64\n",
      " 8   RH_3         19735 non-null  float64\n",
      " 9   T4           19735 non-null  float64\n",
      " 10  RH_4         19735 non-null  float64\n",
      " 11  T5           19735 non-null  float64\n",
      " 12  RH_5         19735 non-null  float64\n",
      " 13  T6           19735 non-null  float64\n",
      " 14  RH_6         19735 non-null  float64\n",
      " 15  T7           19735 non-null  float64\n",
      " 16  RH_7         19735 non-null  float64\n",
      " 17  T8           19735 non-null  float64\n",
      " 18  RH_8         19735 non-null  float64\n",
      " 19  T9           19735 non-null  float64\n",
      " 20  RH_9         19735 non-null  float64\n",
      " 21  T_out        19735 non-null  float64\n",
      " 22  Press_mm_hg  19735 non-null  float64\n",
      " 23  RH_out       19735 non-null  float64\n",
      " 24  Windspeed    19735 non-null  float64\n",
      " 25  Visibility   19735 non-null  float64\n",
      " 26  Tdewpoint    19735 non-null  float64\n",
      " 27  rv1          19735 non-null  float64\n",
      " 28  rv2          19735 non-null  float64\n",
      "dtypes: float64(26), int64(2), object(1)\n",
      "memory usage: 4.4+ MB\n"
     ]
    }
   ],
   "source": [
    "# Getting more information about the data\n",
    "df.info()"
   ]
  },
  {
   "cell_type": "code",
   "execution_count": 5,
   "id": "92a2667b",
   "metadata": {
    "scrolled": true
   },
   "outputs": [
    {
     "data": {
      "text/plain": [
       "date           0\n",
       "Appliances     0\n",
       "lights         0\n",
       "T1             0\n",
       "RH_1           0\n",
       "T2             0\n",
       "RH_2           0\n",
       "T3             0\n",
       "RH_3           0\n",
       "T4             0\n",
       "RH_4           0\n",
       "T5             0\n",
       "RH_5           0\n",
       "T6             0\n",
       "RH_6           0\n",
       "T7             0\n",
       "RH_7           0\n",
       "T8             0\n",
       "RH_8           0\n",
       "T9             0\n",
       "RH_9           0\n",
       "T_out          0\n",
       "Press_mm_hg    0\n",
       "RH_out         0\n",
       "Windspeed      0\n",
       "Visibility     0\n",
       "Tdewpoint      0\n",
       "rv1            0\n",
       "rv2            0\n",
       "dtype: int64"
      ]
     },
     "execution_count": 5,
     "metadata": {},
     "output_type": "execute_result"
    }
   ],
   "source": [
    "# Are there null values in our data\n",
    "df.isnull().sum()"
   ]
  },
  {
   "cell_type": "code",
   "execution_count": 6,
   "id": "036d2037",
   "metadata": {},
   "outputs": [
    {
     "data": {
      "text/plain": [
       "0"
      ]
     },
     "execution_count": 6,
     "metadata": {},
     "output_type": "execute_result"
    }
   ],
   "source": [
    "# Are there duplicated entries in our data?\n",
    "df.duplicated().sum()"
   ]
  },
  {
   "cell_type": "code",
   "execution_count": 7,
   "id": "ae8be357",
   "metadata": {},
   "outputs": [
    {
     "data": {
      "text/plain": [
       "Index(['date', 'Appliances', 'lights', 'T1', 'RH_1', 'T2', 'RH_2', 'T3',\n",
       "       'RH_3', 'T4', 'RH_4', 'T5', 'RH_5', 'T6', 'RH_6', 'T7', 'RH_7', 'T8',\n",
       "       'RH_8', 'T9', 'RH_9', 'T_out', 'Press_mm_hg', 'RH_out', 'Windspeed',\n",
       "       'Visibility', 'Tdewpoint', 'rv1', 'rv2'],\n",
       "      dtype='object')"
      ]
     },
     "execution_count": 7,
     "metadata": {},
     "output_type": "execute_result"
    }
   ],
   "source": [
    "# Displaying the feature names\n",
    "df.columns"
   ]
  },
  {
   "cell_type": "markdown",
   "id": "599c8509",
   "metadata": {},
   "source": [
    "<b>Question 1</b>\n",
    "\n",
    "The percent of the total variation of the dependent variable Y explained by the set of independent variables X is measured by <b><u>Coefficient of Determination</u></b>\n",
    "\n",
    "Options\n",
    "\n",
    "Multicollinearity\n",
    "\n",
    "Coefficient of Determination - <b>Correct Answer</b>\n",
    "\n",
    "Coefficient of Correlation\n",
    "\n",
    "Coefficient of Skewness"
   ]
  },
  {
   "cell_type": "markdown",
   "id": "92657f56",
   "metadata": {},
   "source": [
    "<b>Question 2</b>\n",
    "\n",
    "\n",
    "How do you define a Residual?  <b><u>Y − Y^</u></b>"
   ]
  },
  {
   "cell_type": "markdown",
   "id": "ea2ea6c3",
   "metadata": {},
   "source": [
    "<b>Question 3</b>\n",
    "\n",
    "The straight line graph of the equation Y = a + BX, the slope is horizontal if <b><u>b = 0</u></b>\n",
    "\n",
    "Options\n",
    "\n",
    "b = 0 - <b>Correct Answer</b>\n",
    "\n",
    "b = 1\n",
    "\n",
    "b != 0\n",
    "\n",
    "a = b"
   ]
  },
  {
   "cell_type": "markdown",
   "id": "6c2619b2",
   "metadata": {},
   "source": [
    "<b>Question 4</b>\n",
    "\n",
    "Which of the one is true about Heteroskedasticity? <b><u>Linear Regression with varying error terms</u></b>\n",
    "\n",
    "\n",
    "Options\n",
    "\n",
    "Linear Regression with varying error terms - <b>Correct Answer</b>\n",
    "\n",
    "Linear Regression with zero error terms\n",
    "\n",
    "Linear Regression with constant error terms\n",
    "\n",
    "None of these"
   ]
  },
  {
   "cell_type": "markdown",
   "id": "edc8cfc6",
   "metadata": {},
   "source": [
    "<b>Question 5</b>\n",
    "\n",
    "Generally, which of the following method(s) is used for predicting continuous dependent variables? <b><u>1 only</u></b>\n",
    "\n",
    "1. Linear Regression\n",
    "\n",
    "2. Logistic Regression\n",
    "\n",
    "Options\n",
    "\n",
    "Neither 1 nor 2\n",
    "\n",
    "1 only - <b>Correct Answer</b>\n",
    "\n",
    "2 only\n",
    "\n",
    "1 and 2"
   ]
  },
  {
   "cell_type": "markdown",
   "id": "7fe92ede",
   "metadata": {},
   "source": [
    "<b>Question 6</b>\n",
    "\n",
    "From the following options below, which of these is/are true about “Ridge” or “Lasso” regression methods in case of feature selection? <b><u>Lasso regression uses subset selection of features</u></b>\n",
    "\n",
    "Options\n",
    "\n",
    "None of the above\n",
    "\n",
    "Both use subset selection of features\n",
    "\n",
    "Ridge regression uses subset selection of features\n",
    "\n",
    "Lasso regression uses subset selection of features - <b>Correct Answer</b>"
   ]
  },
  {
   "cell_type": "markdown",
   "id": "73637bef",
   "metadata": {},
   "source": [
    "<b>Question 7</b>\n",
    "\n",
    "Which of the following sentences is/are true about outliers in Linear Regression:  <b><u>Linear regression is sensitive to outliers</u></b>\n",
    "\n",
    "Options\n",
    "\n",
    "Linear regression is not sensitive to outliers\n",
    "\n",
    "Linear regression is sensitive to outliers - <b>Correct Answer</b>\n",
    "\n",
    "None of the above\n",
    "\n",
    "A and B above"
   ]
  },
  {
   "cell_type": "markdown",
   "id": "9fe58c0f",
   "metadata": {},
   "source": [
    "<b>Question 8</b>\n",
    "\n",
    "Which of the following metrics can be used for evaluating regression models?  <b><u>1, 2, 3 and 4 </u></b>\n",
    "\n",
    "1. R Squared\n",
    "\n",
    "2. Adjusted R Squared\n",
    "\n",
    "3. F Statistics\n",
    "\n",
    "4. RMSE / MSE / MAE\n",
    "\n",
    "Options\n",
    "\n",
    "1 and 2\n",
    "\n",
    "2 and 4\n",
    "\n",
    "2, 3 and 4\n",
    "\n",
    "1, 2, 3 and 4 - <b>Correct Answer</b>"
   ]
  },
  {
   "cell_type": "markdown",
   "id": "05f1bf86",
   "metadata": {},
   "source": [
    "<b>Question 9</b>\n",
    "\n",
    "A best fit line relating X and Y has a R-Squared value of 0.75. How do I interpret this information? <b><u>75% of the variance in Y is explained by X</u><b>\n",
    "\n",
    "Options\n",
    "\n",
    "The correlation between X and Y is 0.75\n",
    "\n",
    "75% of the variance in Y is explained by X - <b>Correct Answer</b>\n",
    "\n",
    "The model is performing with 75% accuracy\n",
    "\n",
    "X and Y are 75% related"
   ]
  },
  {
   "cell_type": "markdown",
   "id": "a93307cd",
   "metadata": {},
   "source": [
    "<b>Question 10</b>\n",
    "\n",
    "Which of the following measures is optimal for comparing the goodness of the fit of competing regression models involving the same dependent variable?  <b><u>Standard deviation of the residuals</u></b>\n",
    "\n",
    "Options\n",
    "\n",
    "The coefficient\n",
    "\n",
    "Standard deviation of the residuals - <b>Correct Answer</b>\n",
    "\n",
    "R-square\n",
    "\n",
    "The intercept"
   ]
  },
  {
   "cell_type": "markdown",
   "id": "d6400cb6",
   "metadata": {},
   "source": [
    "<b>Question 11</b>\n",
    "\n",
    "The Lasso can be interpreted as least-squares linear regression where:   <b><u>Weights are regularized with the L1 norm</u></b>\n",
    "\n",
    "Options\n",
    "\n",
    "Weights are regularized with the L1  andL2 norm\n",
    "\n",
    "Weights are regularized with the L2 norm\n",
    "\n",
    "Weights have a gaussian prior\n",
    "\n",
    "Weights are regularized with the L1 norm - <b>Correct Answer</b>"
   ]
  },
  {
   "cell_type": "markdown",
   "id": "20e5dd52",
   "metadata": {},
   "source": [
    "<b>Question 12</b>\n",
    "\n",
    "From the dataset, fit a linear model on the relationship between the temperature in the living room in Celsius (x = T2) and the temperature outside the building (y = T6). What is the R^2 value in two d.p.?   <b><u>0.64</u></b>\n",
    "\n",
    "Options\n",
    "\n",
    "0.51\n",
    "\n",
    "0.57\n",
    "\n",
    "0.64 - <b>Correct Answer</b>\n",
    "\n",
    "0.62"
   ]
  },
  {
   "cell_type": "code",
   "execution_count": 8,
   "id": "65bceea4",
   "metadata": {},
   "outputs": [
    {
     "data": {
      "text/plain": [
       "Index(['date', 'Appliances', 'lights', 'T1', 'RH_1', 'T2', 'RH_2', 'T3',\n",
       "       'RH_3', 'T4', 'RH_4', 'T5', 'RH_5', 'T6', 'RH_6', 'T7', 'RH_7', 'T8',\n",
       "       'RH_8', 'T9', 'RH_9', 'T_out', 'Press_mm_hg', 'RH_out', 'Windspeed',\n",
       "       'Visibility', 'Tdewpoint', 'rv1', 'rv2'],\n",
       "      dtype='object')"
      ]
     },
     "execution_count": 8,
     "metadata": {},
     "output_type": "execute_result"
    }
   ],
   "source": [
    "df.columns"
   ]
  },
  {
   "cell_type": "code",
   "execution_count": 9,
   "id": "61778b57",
   "metadata": {
    "scrolled": true
   },
   "outputs": [
    {
     "data": {
      "text/html": [
       "<div>\n",
       "<style scoped>\n",
       "    .dataframe tbody tr th:only-of-type {\n",
       "        vertical-align: middle;\n",
       "    }\n",
       "\n",
       "    .dataframe tbody tr th {\n",
       "        vertical-align: top;\n",
       "    }\n",
       "\n",
       "    .dataframe thead th {\n",
       "        text-align: right;\n",
       "    }\n",
       "</style>\n",
       "<table border=\"1\" class=\"dataframe\">\n",
       "  <thead>\n",
       "    <tr style=\"text-align: right;\">\n",
       "      <th></th>\n",
       "      <th>T2</th>\n",
       "      <th>T6</th>\n",
       "    </tr>\n",
       "  </thead>\n",
       "  <tbody>\n",
       "    <tr>\n",
       "      <th>10049</th>\n",
       "      <td>19.29</td>\n",
       "      <td>9.566667</td>\n",
       "    </tr>\n",
       "    <tr>\n",
       "      <th>9231</th>\n",
       "      <td>19.39</td>\n",
       "      <td>7.226667</td>\n",
       "    </tr>\n",
       "    <tr>\n",
       "      <th>8680</th>\n",
       "      <td>18.60</td>\n",
       "      <td>3.163333</td>\n",
       "    </tr>\n",
       "    <tr>\n",
       "      <th>3899</th>\n",
       "      <td>21.10</td>\n",
       "      <td>7.230000</td>\n",
       "    </tr>\n",
       "    <tr>\n",
       "      <th>8343</th>\n",
       "      <td>17.00</td>\n",
       "      <td>7.333333</td>\n",
       "    </tr>\n",
       "  </tbody>\n",
       "</table>\n",
       "</div>"
      ],
      "text/plain": [
       "          T2        T6\n",
       "10049  19.29  9.566667\n",
       "9231   19.39  7.226667\n",
       "8680   18.60  3.163333\n",
       "3899   21.10  7.230000\n",
       "8343   17.00  7.333333"
      ]
     },
     "execution_count": 9,
     "metadata": {},
     "output_type": "execute_result"
    }
   ],
   "source": [
    "df.loc[:, ['T2','T6']].sample(5)"
   ]
  },
  {
   "cell_type": "code",
   "execution_count": 10,
   "id": "b6319e08",
   "metadata": {},
   "outputs": [
    {
     "data": {
      "text/plain": [
       "((15788, 1), (3947, 1), (15788,), (3947,))"
      ]
     },
     "execution_count": 10,
     "metadata": {},
     "output_type": "execute_result"
    }
   ],
   "source": [
    "# assigning variables to both T2 and T6\n",
    "x = df.T2\n",
    "y = df.T6\n",
    "\n",
    "# reshaping the x feature to enable us fit the X feature\n",
    "Xarr = np.array(x)\n",
    "X = Xarr.reshape(-1,1)\n",
    "\n",
    "# let's split to train and test samples\n",
    "from sklearn.model_selection import train_test_split\n",
    "X_train, X_test, y_train, y_test = train_test_split(X, y, test_size=0.2, random_state=42)\n",
    "\n",
    "X_train.shape, X_test.shape, y_train.shape, y_test.shape"
   ]
  },
  {
   "cell_type": "code",
   "execution_count": 11,
   "id": "4a9acd4d",
   "metadata": {},
   "outputs": [
    {
     "data": {
      "text/plain": [
       "LinearRegression()"
      ]
     },
     "execution_count": 11,
     "metadata": {},
     "output_type": "execute_result"
    }
   ],
   "source": [
    "from sklearn.linear_model import LinearRegression\n",
    "model = LinearRegression()\n",
    "model.fit(X_train,y_train)"
   ]
  },
  {
   "cell_type": "code",
   "execution_count": 12,
   "id": "b6e1ddaf",
   "metadata": {},
   "outputs": [
    {
     "name": "stdout",
     "output_type": "stream",
     "text": [
      "The r2 value in 2 decimal places is 0.64\n"
     ]
    }
   ],
   "source": [
    "predictions = model.predict(X_test)\n",
    "\n",
    "from sklearn.metrics import r2_score, mean_squared_error, mean_absolute_error\n",
    "\n",
    "r2 = round(r2_score(y_test, predictions),2)\n",
    "print(f'The r2 value in 2 decimal places is {r2}') "
   ]
  },
  {
   "cell_type": "markdown",
   "id": "6e8ba965",
   "metadata": {},
   "source": [
    "<b>Question 13</b>\n",
    "\n",
    "Normalize the dataset using the MinMaxScaler after removing the following columns: [“date”, “lights”]. The target variable is “Appliances”. Use a 70-30 train-test set split with a random state of 42 (for reproducibility). Run a multiple linear regression using the training set and evaluate your model on the test set. Answer the following questions:\n",
    "\n",
    "What is the Mean Absolute Error (in two decimal places)?  <b><u>0.05</u></b>\n",
    "\n",
    "Options\n",
    "0.10\n",
    "\n",
    "0.19\n",
    "\n",
    "0.01\n",
    "\n",
    "0.05 - <b>Correct Answer</b>"
   ]
  },
  {
   "cell_type": "code",
   "execution_count": 13,
   "id": "699b46d7",
   "metadata": {},
   "outputs": [
    {
     "data": {
      "text/plain": [
       "Index(['date', 'Appliances', 'lights', 'T1', 'RH_1', 'T2', 'RH_2', 'T3',\n",
       "       'RH_3', 'T4', 'RH_4', 'T5', 'RH_5', 'T6', 'RH_6', 'T7', 'RH_7', 'T8',\n",
       "       'RH_8', 'T9', 'RH_9', 'T_out', 'Press_mm_hg', 'RH_out', 'Windspeed',\n",
       "       'Visibility', 'Tdewpoint', 'rv1', 'rv2'],\n",
       "      dtype='object')"
      ]
     },
     "execution_count": 13,
     "metadata": {},
     "output_type": "execute_result"
    }
   ],
   "source": [
    "df.columns"
   ]
  },
  {
   "cell_type": "code",
   "execution_count": 14,
   "id": "e70af1cf",
   "metadata": {},
   "outputs": [
    {
     "data": {
      "text/plain": [
       "Index(['Appliances', 'T1', 'RH_1', 'T2', 'RH_2', 'T3', 'RH_3', 'T4', 'RH_4',\n",
       "       'T5', 'RH_5', 'T6', 'RH_6', 'T7', 'RH_7', 'T8', 'RH_8', 'T9', 'RH_9',\n",
       "       'T_out', 'Press_mm_hg', 'RH_out', 'Windspeed', 'Visibility',\n",
       "       'Tdewpoint', 'rv1', 'rv2'],\n",
       "      dtype='object')"
      ]
     },
     "execution_count": 14,
     "metadata": {},
     "output_type": "execute_result"
    }
   ],
   "source": [
    "df_copy = df.copy().drop(columns=['date', 'lights'], axis=1)\n",
    "df_copy.columns"
   ]
  },
  {
   "cell_type": "code",
   "execution_count": 15,
   "id": "d7812137",
   "metadata": {},
   "outputs": [],
   "source": [
    "# import the scaler from library\n",
    "from sklearn.preprocessing import MinMaxScaler\n",
    "scaler = MinMaxScaler()\n",
    "\n",
    "df_copy_scaled = pd.DataFrame(scaler.fit_transform(df_copy), columns=df_copy.columns)\n",
    "# df_copy_scaled\n",
    "\n",
    "# separating the features and targets\n",
    "df_copy_scaled_features = df_copy_scaled.drop(columns=['Appliances'], axis=1)\n",
    "df_copy_scaled_target = df_copy_scaled.Appliances\n",
    "\n",
    "# df_copy_scaled_features.sample(2)\n",
    "# df_copy_scaled_target.sample(2)"
   ]
  },
  {
   "cell_type": "code",
   "execution_count": 16,
   "id": "392a07e9",
   "metadata": {},
   "outputs": [
    {
     "data": {
      "text/plain": [
       "((13814, 26), (5921, 26), (13814,), (5921,))"
      ]
     },
     "execution_count": 16,
     "metadata": {},
     "output_type": "execute_result"
    }
   ],
   "source": [
    "# splitting  to train and test sets\n",
    "X1_train, X1_test, y1_train, y1_test = train_test_split(df_copy_scaled_features, df_copy_scaled_target, test_size=0.3, random_state=42)\n",
    "X1_train.shape, X1_test.shape, y1_train.shape, y1_test.shape"
   ]
  },
  {
   "cell_type": "code",
   "execution_count": 17,
   "id": "b77196b4",
   "metadata": {},
   "outputs": [
    {
     "name": "stdout",
     "output_type": "stream",
     "text": [
      "The Mean Absolute Error in 2 decimal places is 0.05\n"
     ]
    }
   ],
   "source": [
    "# importing the libraries for model building\n",
    "from sklearn.linear_model import LinearRegression\n",
    "model_mul = LinearRegression()\n",
    "model_mul.fit(X1_train, y1_train)\n",
    "\n",
    "# lets predict\n",
    "predictions_mul = model_mul.predict(X1_test)\n",
    "\n",
    "# Model Evaluation\n",
    "# model_mul_score = model_mul.score(y_test, predictions_mul)\n",
    "# model_mul_score\n",
    "\n",
    "mae_mul = round(mean_absolute_error(y1_test, predictions_mul), 2)\n",
    "print(f'The Mean Absolute Error in 2 decimal places is {mae_mul}')"
   ]
  },
  {
   "cell_type": "markdown",
   "id": "c8d70f99",
   "metadata": {},
   "source": [
    "<b>Question 14</b>\n",
    "\n",
    "What is the Residual Sum of Squares (in two decimal places)? <b><u>45.35</u></b>\n",
    "\n",
    "Options\n",
    "\n",
    "45.35 - <b>Correct Answer</b>\n",
    "\n",
    "44.11\n",
    "\n",
    "39.20\n",
    "\n",
    "47.19"
   ]
  },
  {
   "cell_type": "code",
   "execution_count": 18,
   "id": "6025e36a",
   "metadata": {},
   "outputs": [
    {
     "name": "stdout",
     "output_type": "stream",
     "text": [
      "The residual_sum_squares is 45.35\n"
     ]
    }
   ],
   "source": [
    "residual_sum_squares = round(np.sum(np.square(y1_test - predictions_mul)),2)\n",
    "print(f'The residual_sum_squares is {residual_sum_squares}')"
   ]
  },
  {
   "cell_type": "markdown",
   "id": "1777a105",
   "metadata": {},
   "source": [
    "<b>Question 15</b>\n",
    "\n",
    "What is the Root Mean Squared Error (in three decimal places)?  <b><u>0.088</u></b>\n",
    "\n",
    "Options\n",
    "\n",
    "0.083\n",
    "\n",
    "0.104\n",
    "\n",
    "0.088 - <b>Correct Answer</b>\n",
    "\n",
    "0.079"
   ]
  },
  {
   "cell_type": "code",
   "execution_count": 19,
   "id": "a8e149c7",
   "metadata": {},
   "outputs": [
    {
     "name": "stdout",
     "output_type": "stream",
     "text": [
      "The Root Mean Squared Error is 0.088\n"
     ]
    }
   ],
   "source": [
    "rmse = round(np.sqrt(np.mean(np.square(y1_test - predictions_mul))), 3)\n",
    "print(f'The Root Mean Squared Error is {rmse}')"
   ]
  },
  {
   "cell_type": "markdown",
   "id": "d562f6a7",
   "metadata": {},
   "source": [
    "<b>Question 16</b>\n",
    "\n",
    "What is the Coefficient of Determination (in two decimal places)?  <b><u>0.15</u></b>\n",
    "\n",
    "Options\n",
    "\n",
    "0.15 - <b>Correct Answer</b>\n",
    "\n",
    "0.16\n",
    "\n",
    "0.20\n",
    "\n",
    "0.21"
   ]
  },
  {
   "cell_type": "code",
   "execution_count": 20,
   "id": "8418649a",
   "metadata": {},
   "outputs": [
    {
     "name": "stdout",
     "output_type": "stream",
     "text": [
      "The Coefficient of Determination (r2 Score) is 0.15\n"
     ]
    }
   ],
   "source": [
    "# coefficient of determination is r2 score\n",
    "cod = round(r2_score(y1_test, predictions_mul), 2)\n",
    "print(f'The Coefficient of Determination (r2 Score) is {cod}')"
   ]
  },
  {
   "cell_type": "markdown",
   "id": "be50f875",
   "metadata": {},
   "source": [
    "<b>Question 17</b>\n",
    "\n",
    "Obtain the feature weights from your linear model above. Which features have the lowest and highest weights respectively?   <b><u>RH_2, RH_1</u></b>\n",
    "\n",
    "Options\n",
    "\n",
    "rv1, Windspeed\n",
    "\n",
    "T_out, T3\n",
    "\n",
    "RH_2, RH_1 - <b>Correct Answer</b>\n",
    "\n",
    "T6, RH_4"
   ]
  },
  {
   "cell_type": "code",
   "execution_count": 21,
   "id": "2172df00",
   "metadata": {},
   "outputs": [
    {
     "name": "stdout",
     "output_type": "stream",
     "text": [
      "The features with the lowest and highest weights respectively are RH_2, RH_1\n"
     ]
    }
   ],
   "source": [
    "weight = pd.Series(model_mul.coef_, df_copy_scaled_features.columns).sort_values()\n",
    "# weight\n",
    "weight_df = pd.DataFrame(weight).reset_index()\n",
    "# weight_df.head()\n",
    "\n",
    "weight_df.columns = ['Features', 'Weight']\n",
    "weight_df\n",
    "print(f'The features with the lowest and highest weights respectively are RH_2, RH_1')"
   ]
  },
  {
   "cell_type": "markdown",
   "id": "bcacbfdb",
   "metadata": {},
   "source": [
    "<b>Question 18</b>\n",
    "\n",
    "Train a ridge regression model with an alpha value of 0.4. Is there any change to the root mean squared error (RMSE) when evaluated on the test set?  <b><u>NO</u></b>\n",
    "\n",
    "Options\n",
    "\n",
    "Yes\n",
    "\n",
    "No - <b>Correct Answer</b>"
   ]
  },
  {
   "cell_type": "code",
   "execution_count": 22,
   "id": "5175615c",
   "metadata": {},
   "outputs": [
    {
     "name": "stdout",
     "output_type": "stream",
     "text": [
      "RMSE for Linear Regression is equal to the RMSE for Ridge = 0.088\n"
     ]
    }
   ],
   "source": [
    "# Importing Ridge model from library\n",
    "from sklearn.linear_model import Ridge\n",
    "ridge_model = Ridge(alpha=0.4)\n",
    "ridge_model.fit(X1_train, y1_train)\n",
    "predictions_ridge = ridge_model.predict(X1_test)\n",
    "\n",
    "rsme_ridge = round(np.sqrt(mean_squared_error(y1_test, predictions_ridge)), 3)\n",
    "rsme_ridge\n",
    "\n",
    "if rsme_ridge == 0.088:\n",
    "    print(f'RMSE for Linear Regression is equal to the RMSE for Ridge = 0.088')\n",
    "else:\n",
    "    print(f'RMSE for Linear Regression is not equal to the RMSE for Ridge = 0.088' )"
   ]
  },
  {
   "cell_type": "markdown",
   "id": "5368e706",
   "metadata": {},
   "source": [
    "<b>Question 19</b>\n",
    "\n",
    "Train a lasso regression model with an alpha value of 0.001 and obtain the new feature weights with it. How many of the features have non-zero feature weights?  <b><u>4</u></b>\n",
    "\n",
    "Options\n",
    "\n",
    "7\n",
    "\n",
    "4 - <b>Correct Answer</b>\n",
    "\n",
    "5\n",
    "\n",
    "26"
   ]
  },
  {
   "cell_type": "code",
   "execution_count": 23,
   "id": "f5e3e8d5",
   "metadata": {
    "scrolled": false
   },
   "outputs": [
    {
     "data": {
      "text/html": [
       "<div>\n",
       "<style scoped>\n",
       "    .dataframe tbody tr th:only-of-type {\n",
       "        vertical-align: middle;\n",
       "    }\n",
       "\n",
       "    .dataframe tbody tr th {\n",
       "        vertical-align: top;\n",
       "    }\n",
       "\n",
       "    .dataframe thead th {\n",
       "        text-align: right;\n",
       "    }\n",
       "</style>\n",
       "<table border=\"1\" class=\"dataframe\">\n",
       "  <thead>\n",
       "    <tr style=\"text-align: right;\">\n",
       "      <th></th>\n",
       "      <th>Features</th>\n",
       "      <th>Weights</th>\n",
       "    </tr>\n",
       "  </thead>\n",
       "  <tbody>\n",
       "    <tr>\n",
       "      <th>0</th>\n",
       "      <td>RH_out</td>\n",
       "      <td>-0.049557</td>\n",
       "    </tr>\n",
       "    <tr>\n",
       "      <th>1</th>\n",
       "      <td>RH_8</td>\n",
       "      <td>-0.000110</td>\n",
       "    </tr>\n",
       "    <tr>\n",
       "      <th>2</th>\n",
       "      <td>T1</td>\n",
       "      <td>0.000000</td>\n",
       "    </tr>\n",
       "    <tr>\n",
       "      <th>3</th>\n",
       "      <td>Tdewpoint</td>\n",
       "      <td>0.000000</td>\n",
       "    </tr>\n",
       "    <tr>\n",
       "      <th>4</th>\n",
       "      <td>Visibility</td>\n",
       "      <td>0.000000</td>\n",
       "    </tr>\n",
       "    <tr>\n",
       "      <th>5</th>\n",
       "      <td>Press_mm_hg</td>\n",
       "      <td>-0.000000</td>\n",
       "    </tr>\n",
       "    <tr>\n",
       "      <th>6</th>\n",
       "      <td>T_out</td>\n",
       "      <td>0.000000</td>\n",
       "    </tr>\n",
       "    <tr>\n",
       "      <th>7</th>\n",
       "      <td>RH_9</td>\n",
       "      <td>-0.000000</td>\n",
       "    </tr>\n",
       "    <tr>\n",
       "      <th>8</th>\n",
       "      <td>T9</td>\n",
       "      <td>-0.000000</td>\n",
       "    </tr>\n",
       "    <tr>\n",
       "      <th>9</th>\n",
       "      <td>T8</td>\n",
       "      <td>0.000000</td>\n",
       "    </tr>\n",
       "    <tr>\n",
       "      <th>10</th>\n",
       "      <td>RH_7</td>\n",
       "      <td>-0.000000</td>\n",
       "    </tr>\n",
       "    <tr>\n",
       "      <th>11</th>\n",
       "      <td>rv1</td>\n",
       "      <td>-0.000000</td>\n",
       "    </tr>\n",
       "    <tr>\n",
       "      <th>12</th>\n",
       "      <td>T7</td>\n",
       "      <td>-0.000000</td>\n",
       "    </tr>\n",
       "    <tr>\n",
       "      <th>13</th>\n",
       "      <td>T6</td>\n",
       "      <td>0.000000</td>\n",
       "    </tr>\n",
       "    <tr>\n",
       "      <th>14</th>\n",
       "      <td>RH_5</td>\n",
       "      <td>0.000000</td>\n",
       "    </tr>\n",
       "    <tr>\n",
       "      <th>15</th>\n",
       "      <td>T5</td>\n",
       "      <td>-0.000000</td>\n",
       "    </tr>\n",
       "    <tr>\n",
       "      <th>16</th>\n",
       "      <td>RH_4</td>\n",
       "      <td>0.000000</td>\n",
       "    </tr>\n",
       "    <tr>\n",
       "      <th>17</th>\n",
       "      <td>T4</td>\n",
       "      <td>-0.000000</td>\n",
       "    </tr>\n",
       "    <tr>\n",
       "      <th>18</th>\n",
       "      <td>RH_3</td>\n",
       "      <td>0.000000</td>\n",
       "    </tr>\n",
       "    <tr>\n",
       "      <th>19</th>\n",
       "      <td>T3</td>\n",
       "      <td>0.000000</td>\n",
       "    </tr>\n",
       "    <tr>\n",
       "      <th>20</th>\n",
       "      <td>RH_2</td>\n",
       "      <td>-0.000000</td>\n",
       "    </tr>\n",
       "    <tr>\n",
       "      <th>21</th>\n",
       "      <td>T2</td>\n",
       "      <td>0.000000</td>\n",
       "    </tr>\n",
       "    <tr>\n",
       "      <th>22</th>\n",
       "      <td>RH_6</td>\n",
       "      <td>-0.000000</td>\n",
       "    </tr>\n",
       "    <tr>\n",
       "      <th>23</th>\n",
       "      <td>rv2</td>\n",
       "      <td>-0.000000</td>\n",
       "    </tr>\n",
       "    <tr>\n",
       "      <th>24</th>\n",
       "      <td>Windspeed</td>\n",
       "      <td>0.002912</td>\n",
       "    </tr>\n",
       "    <tr>\n",
       "      <th>25</th>\n",
       "      <td>RH_1</td>\n",
       "      <td>0.017880</td>\n",
       "    </tr>\n",
       "  </tbody>\n",
       "</table>\n",
       "</div>"
      ],
      "text/plain": [
       "       Features   Weights\n",
       "0        RH_out -0.049557\n",
       "1          RH_8 -0.000110\n",
       "2            T1  0.000000\n",
       "3     Tdewpoint  0.000000\n",
       "4    Visibility  0.000000\n",
       "5   Press_mm_hg -0.000000\n",
       "6         T_out  0.000000\n",
       "7          RH_9 -0.000000\n",
       "8            T9 -0.000000\n",
       "9            T8  0.000000\n",
       "10         RH_7 -0.000000\n",
       "11          rv1 -0.000000\n",
       "12           T7 -0.000000\n",
       "13           T6  0.000000\n",
       "14         RH_5  0.000000\n",
       "15           T5 -0.000000\n",
       "16         RH_4  0.000000\n",
       "17           T4 -0.000000\n",
       "18         RH_3  0.000000\n",
       "19           T3  0.000000\n",
       "20         RH_2 -0.000000\n",
       "21           T2  0.000000\n",
       "22         RH_6 -0.000000\n",
       "23          rv2 -0.000000\n",
       "24    Windspeed  0.002912\n",
       "25         RH_1  0.017880"
      ]
     },
     "execution_count": 23,
     "metadata": {},
     "output_type": "execute_result"
    }
   ],
   "source": [
    "# import Lasso model from library\n",
    "from sklearn.linear_model import Lasso\n",
    "lasso_model = Lasso(alpha=0.001)\n",
    "lasso_model.fit(X1_train, y1_train)\n",
    "predictions_lasso = lasso_model.predict(X1_test)\n",
    "\n",
    "weights_lasso = pd.Series(lasso_model.coef_, df_copy_scaled_features.columns).sort_values()\n",
    "# weights_lasso\n",
    "weights_lasso_df = pd.DataFrame(weights_lasso).reset_index()\n",
    "weights_lasso_df.columns = ['Features', 'Weights']\n",
    "weights_lasso_df"
   ]
  },
  {
   "cell_type": "code",
   "execution_count": 24,
   "id": "2fa061b8",
   "metadata": {},
   "outputs": [
    {
     "name": "stdout",
     "output_type": "stream",
     "text": [
      "There are 4 non-zero feature weights\n"
     ]
    }
   ],
   "source": [
    "non_zero_feature_weights = weights_lasso_df[weights_lasso_df.Weights!=0]\n",
    "non_zero_feature_weights\n",
    "print(f'There are 4 non-zero feature weights')"
   ]
  },
  {
   "cell_type": "markdown",
   "id": "4cb4e000",
   "metadata": {},
   "source": [
    "<b>Question 20</b>\n",
    "\n",
    "What is the new RMSE with the lasso regression? (Answer should be in three (3) decimal places)  <b><u>0.094</u></b>\n",
    "\n",
    "Options\n",
    "\n",
    "0.094 - <b>Correct Answer</b>\n",
    "\n",
    "0.112\n",
    "\n",
    "0.089\n",
    "\n",
    "0.101"
   ]
  },
  {
   "cell_type": "code",
   "execution_count": 25,
   "id": "0015771d",
   "metadata": {},
   "outputs": [
    {
     "name": "stdout",
     "output_type": "stream",
     "text": [
      "The new RMSE with the Lasso Regression is 0.094\n"
     ]
    }
   ],
   "source": [
    "rmse_lasso = round(np.sqrt(mean_squared_error(y1_test, predictions_lasso)), 3)\n",
    "print(f'The new RMSE with the Lasso Regression is {rmse_lasso}')"
   ]
  }
 ],
 "metadata": {
  "kernelspec": {
   "display_name": "Python 3 (ipykernel)",
   "language": "python",
   "name": "python3"
  },
  "language_info": {
   "codemirror_mode": {
    "name": "ipython",
    "version": 3
   },
   "file_extension": ".py",
   "mimetype": "text/x-python",
   "name": "python",
   "nbconvert_exporter": "python",
   "pygments_lexer": "ipython3",
   "version": "3.9.13"
  }
 },
 "nbformat": 4,
 "nbformat_minor": 5
}
